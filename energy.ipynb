{
  "nbformat": 4,
  "nbformat_minor": 0,
  "metadata": {
    "colab": {
      "provenance": [],
      "authorship_tag": "ABX9TyMM1SY3fgeZ7ujQR4lPb+eL",
      "include_colab_link": true
    },
    "kernelspec": {
      "name": "python3",
      "display_name": "Python 3"
    },
    "language_info": {
      "name": "python"
    }
  },
  "cells": [
    {
      "cell_type": "markdown",
      "metadata": {
        "id": "view-in-github",
        "colab_type": "text"
      },
      "source": [
        "<a href=\"https://colab.research.google.com/github/yenee/0320/blob/main/energy.ipynb\" target=\"_parent\"><img src=\"https://colab.research.google.com/assets/colab-badge.svg\" alt=\"Open In Colab\"/></a>"
      ]
    },
    {
      "cell_type": "code",
      "source": [
        "import requests\n",
        "from bs4 import BeautifulSoup\n",
        "import pandas as pd\n",
        "import json\n",
        "import time"
      ],
      "metadata": {
        "id": "SmI7Pa94slox"
      },
      "execution_count": 1,
      "outputs": []
    },
    {
      "cell_type": "code",
      "execution_count": 2,
      "metadata": {
        "id": "gzZnwI-2sjk7"
      },
      "outputs": [],
      "source": [
        "def direct_supply(year):\n",
        "    url = 'https://www.trec.org.tw/certification_trade_situation/direct_supply'\n",
        "    headers = {\n",
        "        'User-Agent': 'Mozilla/5.0 (Windows NT 10.0; Win64; x64) AppleWebKit/537.36 (KHTML, like Gecko) Chrome/122.0.0.0 Safari/537.36',\n",
        "        'Origin': 'https://www.trec.org.tw',\n",
        "        'Referer': url,\n",
        "    }\n",
        "    data_url = 'https://www.trec.org.tw/certification_trade_situation/direct_supply/data'\n",
        "\n",
        "    with requests.Session() as s:\n",
        "        response = s.get(url=url, headers=headers)\n",
        "        soup = BeautifulSoup(response.text, 'html.parser')\n",
        "        token_item = soup.find('input', {'name': \"_token\"})\n",
        "        if token_item is not None:\n",
        "            token = token_item['value']\n",
        "            print('token:', token)\n",
        "        else:\n",
        "            print(\"Token not found!\")\n",
        "        form_data = {\n",
        "            \"draw\": 1,\n",
        "            \"columns[0][data]\": \"DT_RowIndex\",\n",
        "            \"columns[0][name]\": \"DT_RowIndex\",\n",
        "            \"columns[0][searchable]\": \"false\",\n",
        "            \"columns[0][orderable]\": \"false\",\n",
        "            \"columns[0][search][value]\": \"\",\n",
        "            \"columns[0][search][regex]\": \"false\",\n",
        "            \"columns[1][data]\": \"seller_name\",\n",
        "            \"columns[1][name]\": \"seller_name\",\n",
        "            \"columns[1][searchable]\": \"false\",\n",
        "            \"columns[1][orderable]\": \"true\",\n",
        "            \"columns[1][search][value]\": \"\",\n",
        "            \"columns[1][search][regex]\": \"false\",\n",
        "            \"columns[2][data]\": \"buyer_name\",\n",
        "            \"columns[2][name]\": \"buyer_name\",\n",
        "            \"columns[2][searchable]\": \"false\",\n",
        "            \"columns[2][orderable]\": \"true\",\n",
        "            \"columns[2][search][value]\": \"\",\n",
        "            \"columns[2][search][regex]\": \"false\",\n",
        "            \"columns[3][data]\": \"energy\",\n",
        "            \"columns[3][name]\": \"energy\",\n",
        "            \"columns[3][searchable]\": \"false\",\n",
        "            \"columns[3][orderable]\": \"true\",\n",
        "            \"columns[3][search][value]\": \"\",\n",
        "            \"columns[3][search][regex]\": \"false\",\n",
        "            \"columns[4][data]\": \"type\",\n",
        "            \"columns[4][name]\": \"type\",\n",
        "            \"columns[4][searchable]\": \"false\",\n",
        "            \"columns[4][orderable]\": \"false\",\n",
        "            \"columns[4][search][value]\": \"\",\n",
        "            \"columns[4][search][regex]\": \"false\",\n",
        "            \"columns[5][data]\": \"amount\",\n",
        "            \"columns[5][name]\": \"amount\",\n",
        "            \"columns[5][searchable]\": \"false\",\n",
        "            \"columns[5][orderable]\": \"true\",\n",
        "            \"columns[5][search][value]\": \"\",\n",
        "            \"columns[5][search][regex]\": \"false\",\n",
        "            \"columns[6][data]\": \"detail\",\n",
        "            \"columns[6][name]\": \"detail\",\n",
        "            \"columns[6][searchable]\": \"false\",\n",
        "            \"columns[6][orderable]\": \"false\",\n",
        "            \"columns[6][search][value]\": \"\",\n",
        "            \"columns[6][search][regex]\": \"false\",\n",
        "            \"order[0][column]\": \"1\",\n",
        "            \"order[0][dir]\": \"asc\",\n",
        "            \"start\": 0,\n",
        "            \"length\": -1,\n",
        "            \"search[value]\": \"\",\n",
        "            \"search[regex]\": \"false\",\n",
        "            \"year\": year,\n",
        "            \"_token\": token\n",
        "        }\n",
        "\n",
        "        response = s.post(url=data_url, data=form_data, headers=headers)\n",
        "        print('status_code:', response.status_code)\n",
        "\n",
        "        data = json.loads(response.text)\n",
        "        print(data['recordsTotal'])\n",
        "        df = pd.DataFrame(data['data'])\n",
        "\n",
        "        def clean_seller_name(seller_name):\n",
        "            return seller_name.split('<br/>')[0]\n",
        "\n",
        "        df['seller_name'] = df['seller_name'].apply(clean_seller_name)\n",
        "        df['year'] = year\n",
        "        return df\n"
      ]
    },
    {
      "cell_type": "code",
      "source": [
        "year = [2024, 2023, 2022, 2021, 2020]\n",
        "dfs = []\n",
        "\n",
        "for y in year:\n",
        "    df = direct_supply(y)\n",
        "    time.sleep(5)\n",
        "    dfs.append(df)\n",
        "\n",
        "combined_df = pd.concat(dfs, ignore_index=True)\n",
        "selected_columns = ['year', 'seller_name', 'case_name', 'buyer_name', 'energy', 'type', 'amount']\n",
        "selected_df = combined_df[selected_columns]\n",
        "\n",
        "selected_df.to_csv('direct_supply_data.csv', index=False)"
      ],
      "metadata": {
        "colab": {
          "base_uri": "https://localhost:8080/"
        },
        "id": "_let0bxJswwA",
        "outputId": "324ea40d-869d-4eb9-9c6d-4eb817cc13ce"
      },
      "execution_count": 3,
      "outputs": [
        {
          "output_type": "stream",
          "name": "stdout",
          "text": [
            "token: FeqFZskZp2uk219UKZhPazt7cKjpSJDAcRPQ73xQ\n",
            "status_code: 200\n",
            "615\n",
            "token: QUaZ7R6hkFSMLXucwHFiUS6OFTjpoPXgBVcvCizG\n",
            "status_code: 200\n",
            "539\n",
            "token: Vdvnfaw809UubMW4DR3jBEqSEQVKyGe2fYq1z1IW\n",
            "status_code: 200\n",
            "144\n",
            "token: GiUv85Nqxee9DUbQeMs3zb8QJpcE4EMDT8fpyFOE\n",
            "status_code: 200\n",
            "32\n",
            "token: TSGrhdaf3QzdLBxrrtFpoPA9plMf9YLvFBnTo0aQ\n",
            "status_code: 200\n",
            "8\n"
          ]
        }
      ]
    }
  ]
}